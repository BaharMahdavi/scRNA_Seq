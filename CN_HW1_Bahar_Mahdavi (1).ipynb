{
  "cells": [
    {
      "cell_type": "markdown",
      "metadata": {
        "id": "78GNfNHay7-x"
      },
      "source": [
        "\n",
        "#The Complex Network Homework No. 1\n",
        "Bahar Mahdavi - SN: 40152521337"
      ]
    },
    {
      "cell_type": "markdown",
      "metadata": {
        "id": "V4gw1s0Oszx6"
      },
      "source": [
        "## A. Call the Karate Club graph from the torch_geometric library and visualize  it."
      ]
    },
    {
      "cell_type": "code",
      "execution_count": 2,
      "metadata": {
        "colab": {
          "base_uri": "https://localhost:8080/"
        },
        "id": "BwQTuIgp98CF",
        "outputId": "4f362ef4-a85d-4c03-a75c-6704f7a76ea5"
      },
      "outputs": [
        {
          "output_type": "stream",
          "name": "stdout",
          "text": [
            "PyTorch has version 2.1.0+cu121\n"
          ]
        }
      ],
      "source": [
        "import os\n",
        "import torch\n",
        "print(\"PyTorch has version {}\".format(torch.__version__))"
      ]
    },
    {
      "cell_type": "markdown",
      "metadata": {
        "id": "YbdqwHVa7ptc"
      },
      "source": [
        "###The installation of PyTorch Geometric (PyG) on Colab\n",
        "PyTorch Geometric is an extension library to the popular deep learning framework PyTorch, and consists of various methods and utilities to ease the implementation of Graph Neural Networks.\n",
        "https://pytorch-geometric.readthedocs.io/en/latest/notes/installation.html"
      ]
    },
    {
      "cell_type": "code",
      "execution_count": null,
      "metadata": {
        "colab": {
          "background_save": true,
          "base_uri": "https://localhost:8080/"
        },
        "id": "L8PlWSR88GDG",
        "outputId": "ff807f7e-ea9f-45e0-f05e-bcc0880d630c"
      },
      "outputs": [
        {
          "name": "stdout",
          "output_type": "stream",
          "text": [
            "  Preparing metadata (setup.py) ... \u001b[?25l\u001b[?25hdone\n",
            "  Building wheel for torch-scatter (setup.py) ... \u001b[?25l\u001b[?25hdone\n",
            "  Preparing metadata (setup.py) ... \u001b[?25l\u001b[?25hdone\n",
            "  Building wheel for torch-sparse (setup.py) ... \u001b[?25l\u001b[?25hdone\n",
            "\u001b[2K     \u001b[90m━━━━━━━━━━━━━━━━━━━━━━━━━━━━━━━━━━━━━━━━\u001b[0m \u001b[32m1.0/1.0 MB\u001b[0m \u001b[31m7.9 MB/s\u001b[0m eta \u001b[36m0:00:00\u001b[0m\n",
            "\u001b[?25h"
          ]
        }
      ],
      "source": [
        "# Install torch geometric\n",
        "!pip install -q torch-scatter -f https://pytorch-geometric.com/whl/torch-1.7.0+cu101.html\n",
        "!pip install -q torch-sparse -f https://pytorch-geometric.com/whl/torch-1.7.0+cu101.html\n",
        "!pip install -q torch-geometric"
      ]
    },
    {
      "cell_type": "markdown",
      "metadata": {
        "id": "CXECRVTiSoUV"
      },
      "source": [
        "###Loading dataset"
      ]
    },
    {
      "cell_type": "code",
      "execution_count": 3,
      "metadata": {
        "colab": {
          "base_uri": "https://localhost:8080/",
          "height": 385
        },
        "id": "OxrD25kLSuzQ",
        "outputId": "3797c46a-b19b-4d1f-d5f2-baa61bfcad31"
      },
      "outputs": [
        {
          "output_type": "error",
          "ename": "ModuleNotFoundError",
          "evalue": "ignored",
          "traceback": [
            "\u001b[0;31m---------------------------------------------------------------------------\u001b[0m",
            "\u001b[0;31mModuleNotFoundError\u001b[0m                       Traceback (most recent call last)",
            "\u001b[0;32m<ipython-input-3-c22a26bf2e43>\u001b[0m in \u001b[0;36m<cell line: 2>\u001b[0;34m()\u001b[0m\n\u001b[1;32m      1\u001b[0m \u001b[0;31m# Load Zachary's karate club network\u001b[0m\u001b[0;34m\u001b[0m\u001b[0;34m\u001b[0m\u001b[0m\n\u001b[0;32m----> 2\u001b[0;31m \u001b[0;32mfrom\u001b[0m \u001b[0mtorch_geometric\u001b[0m\u001b[0;34m.\u001b[0m\u001b[0mdatasets\u001b[0m \u001b[0;32mimport\u001b[0m \u001b[0mKarateClub\u001b[0m\u001b[0;34m\u001b[0m\u001b[0;34m\u001b[0m\u001b[0m\n\u001b[0m\u001b[1;32m      3\u001b[0m \u001b[0;34m\u001b[0m\u001b[0m\n\u001b[1;32m      4\u001b[0m \u001b[0mdataset\u001b[0m \u001b[0;34m=\u001b[0m \u001b[0mKarateClub\u001b[0m\u001b[0;34m(\u001b[0m\u001b[0;34m)\u001b[0m\u001b[0;34m\u001b[0m\u001b[0;34m\u001b[0m\u001b[0m\n\u001b[1;32m      5\u001b[0m \u001b[0mdata\u001b[0m \u001b[0;34m=\u001b[0m \u001b[0mdataset\u001b[0m\u001b[0;34m[\u001b[0m\u001b[0;36m0\u001b[0m\u001b[0;34m]\u001b[0m  \u001b[0;31m# Get the first graph object.\u001b[0m\u001b[0;34m\u001b[0m\u001b[0;34m\u001b[0m\u001b[0m\n",
            "\u001b[0;31mModuleNotFoundError\u001b[0m: No module named 'torch_geometric'",
            "",
            "\u001b[0;31m---------------------------------------------------------------------------\u001b[0;32m\nNOTE: If your import is failing due to a missing package, you can\nmanually install dependencies using either !pip or !apt.\n\nTo view examples of installing some common dependencies, click the\n\"Open Examples\" button below.\n\u001b[0;31m---------------------------------------------------------------------------\u001b[0m\n"
          ],
          "errorDetails": {
            "actions": [
              {
                "action": "open_url",
                "actionText": "Open Examples",
                "url": "/notebooks/snippets/importing_libraries.ipynb"
              }
            ]
          }
        }
      ],
      "source": [
        "# Load Zachary's karate club network\n",
        "from torch_geometric.datasets import KarateClub\n",
        "\n",
        "dataset = KarateClub()\n",
        "data = dataset[0]  # Get the first graph object."
      ]
    },
    {
      "cell_type": "markdown",
      "metadata": {
        "id": "Hj1wqTV0-fa7"
      },
      "source": [
        "###Graph visualization"
      ]
    },
    {
      "cell_type": "code",
      "execution_count": null,
      "metadata": {
        "colab": {
          "background_save": true
        },
        "id": "OzCFJHYFTuoo",
        "outputId": "e21a7c53-20b2-4055-e161-d3db7d79fb7a"
      },
      "outputs": [
        {
          "data": {
            "image/png": "[encoded data removed]",
            "text/plain": [
              "<Figure size 700x700 with 1 Axes>"
            ]
          },
          "metadata": {},
          "output_type": "display_data"
        }
      ],
      "source": [
        "%matplotlib inline\n",
        "import networkx as nx\n",
        "from torch_geometric.utils import to_networkx\n",
        "import matplotlib.pyplot as plt\n",
        "\n",
        "G = nx.karate_club_graph()\n",
        "G = to_networkx(data, to_undirected=True)\n",
        "G.remove_edges_from(nx.selfloop_edges(G))\n",
        "\n",
        "plt.figure(figsize=(7,7))\n",
        "plt.xticks([])\n",
        "plt.yticks([])\n",
        "nx.draw_networkx(G,\n",
        "                 pos=nx.spring_layout(G, seed=42),\n",
        "                 with_labels=False,\n",
        "                 node_color=data.y,\n",
        "                 cmap=\"Set3\")\n",
        "plt.show()"
      ]
    },
    {
      "cell_type": "markdown",
      "metadata": {
        "id": "U2h8mfJ2wNDa"
      },
      "source": [
        "## B. Display the graph properties, including the number of nodes and edges, the list of nodes and edges, the number of classes, the labels of nodes, the node feature vectors, and the training data mask."
      ]
    },
    {
      "cell_type": "code",
      "execution_count": null,
      "metadata": {
        "id": "jXfEBxWGoU1H"
      },
      "outputs": [],
      "source": [
        "print(f'Dataset: {dataset}:') #Zachary's karate club network containing 34 nodes, connected by 156 (undirected and unweighted) edges: This graph describes a social network of 34 members of a karate club and documents links between members who interacted outside the club\n",
        "print('======================')\n",
        "print(data)\n",
        "print('==============================================================')\n",
        "# Gather some statistics about the graph.\n",
        "print(f'Number of graphs: {len(dataset)}') #this dataset holds exactly one graph\n",
        "print(f'Number of features: {dataset.num_features}') #each node in this dataset is assigned a 34-dimensional feature vector (which uniquely describes the members of the karate club)"
      ]
    },
    {
      "cell_type": "markdown",
      "metadata": {
        "id": "kO9H23AUobuR"
      },
      "source": [
        "##Number of nodes and edges"
      ]
    },
    {
      "cell_type": "code",
      "execution_count": null,
      "metadata": {
        "id": "7uaJrmh5oyox"
      },
      "outputs": [],
      "source": [
        "print(f'Number of nodes: {data.num_nodes}')\n",
        "print(f'Number of edges: {data.num_edges}')\n",
        "print(f'Average node degree: {(2*data.num_edges) / data.num_nodes:.2f}')"
      ]
    },
    {
      "cell_type": "markdown",
      "metadata": {
        "id": "EgAlJExmnLIs"
      },
      "source": [
        "##Edge index"
      ]
    },
    {
      "cell_type": "code",
      "execution_count": null,
      "metadata": {
        "id": "U-Hu6cJS_PTK"
      },
      "outputs": [],
      "source": [
        "G.edges"
      ]
    },
    {
      "cell_type": "code",
      "execution_count": null,
      "metadata": {
        "id": "4o1aMpjw_acB"
      },
      "outputs": [],
      "source": [
        "#In case we used Networkx\n",
        "edge_index = torch.tensor(list(G.edges))\n",
        "edge_index = torch.transpose(edge_index, 0,1)\n",
        "edge_index"
      ]
    },
    {
      "cell_type": "code",
      "execution_count": null,
      "metadata": {
        "id": "Jf9wpRArdcsN"
      },
      "outputs": [],
      "source": [
        "#In case we used PyG\n",
        "from IPython.display import Javascript  # Restrict height of output cell.\n",
        "display(Javascript('''google.colab.output.setIframeHeight(0, true, {maxHeight: 300})'''))\n",
        "\n",
        "edge_index = data.edge_index\n",
        "print(edge_index.t())"
      ]
    },
    {
      "cell_type": "markdown",
      "metadata": {
        "id": "bPgbMEmFoDj4"
      },
      "source": [
        "##Nodes list"
      ]
    },
    {
      "cell_type": "code",
      "execution_count": null,
      "metadata": {
        "id": "BIsuwB8c_MZg"
      },
      "outputs": [],
      "source": [
        "G.nodes"
      ]
    },
    {
      "cell_type": "code",
      "execution_count": null,
      "metadata": {
        "id": "d77TzcGdnxxz"
      },
      "outputs": [],
      "source": [
        "for n in G.nodes:\n",
        "     print(n , '-->', G.nodes[n])"
      ]
    },
    {
      "cell_type": "markdown",
      "metadata": {
        "id": "An203WQepXsO"
      },
      "source": [
        "##Number of classes"
      ]
    },
    {
      "cell_type": "code",
      "execution_count": null,
      "metadata": {
        "id": "qzOFB_q1prdc"
      },
      "outputs": [],
      "source": [
        "print(f'Number of classes: {dataset.num_classes}') #the graph holds exactly 4 classes, which represent the community each node belongs to"
      ]
    },
    {
      "cell_type": "markdown",
      "metadata": {
        "id": "hVI5QIlequ5G"
      },
      "source": [
        "##Define labels and display the graph"
      ]
    },
    {
      "cell_type": "code",
      "execution_count": null,
      "metadata": {
        "id": "wFqVsoOXxQ_B"
      },
      "outputs": [],
      "source": [
        "#Create edge labels (0 for intra-club edges, 1 for inter-club edges)\n",
        "edge_labels = [0 if G.nodes[edge[0]]['club'] == G.nodes[edge[1]]['club'] else 1 for edge in G.edges]\n",
        "edge_labels = torch.tensor(edge_labels, dtype=torch.float)\n",
        "edge_labels"
      ]
    },
    {
      "cell_type": "code",
      "execution_count": null,
      "metadata": {
        "id": "jC9Ygvl-0Rtm"
      },
      "outputs": [],
      "source": [
        "x = torch.eye(G.number_of_nodes()) #Feature matrix (one-hot encoded node identity)\n",
        "print(x.shape)\n",
        "print(x)"
      ]
    },
    {
      "cell_type": "code",
      "execution_count": null,
      "metadata": {
        "id": "65NdsnmAqt_r"
      },
      "outputs": [],
      "source": [
        "# there are two labels for nodes; Officer and Mr. Hi. we convert them into binary labels\n",
        "G = nx.karate_club_graph()\n",
        "labels = []\n",
        "for i in G.nodes:\n",
        "    club_names = G.nodes[i]['club']\n",
        "    labels.append(1 if club_names== 'Officer' else 0)"
      ]
    },
    {
      "cell_type": "code",
      "execution_count": null,
      "metadata": {
        "id": "moPM-H__zUPe"
      },
      "outputs": [],
      "source": [
        "G.remove_edges_from(nx.selfloop_edges(G))\n",
        "layout_pos = nx.spring_layout(G)\n",
        "nx.draw_networkx(G, pos = layout_pos , node_color = labels, cmap = 'Set3')"
      ]
    },
    {
      "cell_type": "markdown",
      "metadata": {
        "id": "Ne-X0S6BtZtb"
      },
      "source": [
        "##Mask of training data"
      ]
    },
    {
      "cell_type": "code",
      "execution_count": null,
      "metadata": {
        "id": "BhQTKbcutfuL"
      },
      "outputs": [],
      "source": [
        "print(f'Number of training nodes: {data.train_mask.sum()}') #mask of training data describes for which nodes we already know their community assigments\n",
        "print(f'Training node label rate: {int(data.train_mask.sum()) / data.num_nodes:.2f}')"
      ]
    },
    {
      "cell_type": "code",
      "execution_count": null,
      "metadata": {
        "id": "AAWBJjC6A3LW"
      },
      "outputs": [],
      "source": [
        "data.train_mask"
      ]
    },
    {
      "cell_type": "code",
      "execution_count": null,
      "metadata": {
        "id": "FYPIjVHNVPtq"
      },
      "outputs": [],
      "source": [
        "print(f'Contains isolated nodes: {data.has_isolated_nodes()}') #whether there exists isolated nodes in the graph (i.e. there exists no edge to any node)\n",
        "print(f'Contains self-loops: {data.has_self_loops()}') #whether the graph contains self-loops\n",
        "print(f'Is undirected: {data.is_undirected()}') #whether the graph is undirected"
      ]
    },
    {
      "cell_type": "markdown",
      "metadata": {
        "id": "eUM9mSlU1Vus"
      },
      "source": [
        "## C. Train a network comprising graph convolutional layers and a classifier. Utilize the graph convolutional layers to generate node embeddings of length 2 for the nodes of the Karate Club graph, and subsequently classify them using a classifier."
      ]
    },
    {
      "cell_type": "markdown",
      "metadata": {
        "id": "c9DIzSkjKrH2"
      },
      "source": [
        "### Model architecture\n"
      ]
    },
    {
      "cell_type": "code",
      "execution_count": null,
      "metadata": {
        "id": "IZRiOg_RC9gU"
      },
      "outputs": [],
      "source": [
        "from torch_geometric.utils import to_networkx\n",
        "from torch.nn import Linear\n",
        "from torch_geometric.nn import GCNConv\n",
        "from sklearn.manifold import TSNE\n",
        "\n",
        "class GCN(torch.nn.Module):\n",
        "    def __init__(self):\n",
        "        super(GCN, self).__init__()\n",
        "        torch.manual_seed(7531)\n",
        "        self.conv1 = GCNConv(dataset.num_features, 4)\n",
        "        self.conv2 = GCNConv(4, 2)\n",
        "        self.classifier = Linear(2, dataset.num_classes)\n",
        "\n",
        "    def forward(self, x, edge_index):\n",
        "        h = self.conv1(x, edge_index)\n",
        "        h = h.tanh()\n",
        "        h = self.conv2(h, edge_index)\n",
        "        h = h.tanh()  # Final GNN embedding space.\n",
        "        out = self.classifier(h)# Apply a final (linear) classifier.\n",
        "\n",
        "        return out, h\n",
        "\n",
        "model = GCN()\n",
        "print(model)"
      ]
    },
    {
      "cell_type": "markdown",
      "metadata": {
        "id": "MOifqkPDKxjD"
      },
      "source": [
        "###Training the model"
      ]
    },
    {
      "cell_type": "code",
      "execution_count": null,
      "metadata": {
        "id": "ZarE1dplGz78"
      },
      "outputs": [],
      "source": [
        "import time\n",
        "from IPython.display import Javascript  # Restrict height of output cell.\n",
        "display(Javascript('''google.colab.output.setIframeHeight(0, true, {maxHeight: 430})'''))\n",
        "\n",
        "def train(data):\n",
        "    optimizer.zero_grad()  # Clear gradients.\n",
        "    out, h = model(data.x, data.edge_index)  # Perform a single forward pass.\n",
        "    loss = criterion(out[data.train_mask], data.y[data.train_mask])  # Compute the loss solely based on the training nodes.\n",
        "    loss.backward()  # Derive gradients.\n",
        "    optimizer.step()  # Update parameters based on gradients.\n",
        "\n",
        "    accuracy = {}\n",
        "    # Calculate training accuracy on our four examples\n",
        "    predicted_classes = torch.argmax(out[data.train_mask], axis=1) # [0.6, 0.2, 0.7, 0.1] -> 2\n",
        "    target_classes = data.y[data.train_mask]\n",
        "    accuracy['train'] = torch.mean(\n",
        "        torch.where(predicted_classes == target_classes, 1, 0).float())\n",
        "\n",
        "    # Calculate validation accuracy on the whole graph\n",
        "    predicted_classes = torch.argmax(out, axis=1)\n",
        "    target_classes = data.y\n",
        "    accuracy['val'] = torch.mean(\n",
        "        torch.where(predicted_classes == target_classes, 1, 0).float())\n",
        "\n",
        "    return loss, h, accuracy"
      ]
    },
    {
      "cell_type": "code",
      "execution_count": null,
      "metadata": {
        "id": "OeF88dNzK6kq"
      },
      "outputs": [],
      "source": [
        "# Lists to store loss and accuracy values\n",
        "losses = []\n",
        "accuracies = []\n",
        "epochs = 1500\n",
        "criterion = torch.nn.CrossEntropyLoss()  #Initialize the CrossEntropyLoss function (loss criterion).\n",
        "optimizer = torch.optim.Adam(model.parameters(), lr=0.01) # Define optimizer.\n",
        "# Training loop\n",
        "for epoch in range(epochs):\n",
        "    loss, h, accuracy = train(data)\n",
        "    losses.append(loss.item())"
      ]
    },
    {
      "cell_type": "code",
      "execution_count": null,
      "metadata": {
        "id": "1ExillkvK6ff"
      },
      "outputs": [],
      "source": [
        "plt.plot(range(1, len(losses) + 1), losses, marker='o', color='c')\n",
        "\n",
        "plt.title('Training Loss Curve')\n",
        "plt.xlabel('Epoch')\n",
        "plt.ylabel('Loss')\n",
        "plt.grid(True)\n",
        "plt.show()"
      ]
    },
    {
      "cell_type": "markdown",
      "metadata": {
        "id": "IaCokO5aLUja"
      },
      "source": [
        "###Visualizing node embeddings\n"
      ]
    },
    {
      "cell_type": "code",
      "execution_count": null,
      "metadata": {
        "id": "RqSgj4GLK6WU"
      },
      "outputs": [],
      "source": [
        "data = dataset[0]\n",
        "out, embeddings = model(data.x, data.edge_index)\n",
        "\n",
        "# Convert embeddings to a NumPy array\n",
        "embeddings = embeddings.detach().numpy()\n",
        "\n",
        "# Apply dimensionality reduction (e.g., t-SNE) for visualization\n",
        "reduced_embeddings = TSNE(n_components=2).fit_transform(embeddings)\n",
        "\n",
        "# Create a scatter plot to visualize the embeddings\n",
        "plt.figure(figsize=(10, 10))\n",
        "plt.scatter(reduced_embeddings[:, 0], reduced_embeddings[:, 1], c=data.y, cmap='Set3', s=50)\n",
        "plt.xlabel((f'Loss: {loss.item():.4f} \\n'\n",
        "                       f'Training Accuracy: {accuracy[\"train\"]*100:.2f}% \\n'\n",
        "                       f' Validation Accuracy: {accuracy[\"val\"]*100:.2f}%'),\n",
        "                       fontsize=12)\n",
        "plt.title(\"Node Embeddings Visualization\")\n",
        "\n",
        "plt.show()"
      ]
    },
    {
      "cell_type": "markdown",
      "metadata": {
        "id": "_ZdNsjzKhHQc"
      },
      "source": [
        "##D. Ramp up the number of graph layers in the aforementioned model to a minimum of 20 layers, and then assess the outcome through visual comparison or examination of numerical features."
      ]
    },
    {
      "cell_type": "markdown",
      "metadata": {
        "id": "eJ6a8XTuodry"
      },
      "source": [
        "### Model architecture"
      ]
    },
    {
      "cell_type": "code",
      "execution_count": null,
      "metadata": {
        "id": "ByqkCI4Bojls"
      },
      "outputs": [],
      "source": [
        "from torch_geometric.utils import to_networkx\n",
        "from torch.nn import Linear\n",
        "from torch_geometric.nn import GCNConv\n",
        "from sklearn.manifold import TSNE\n",
        "\n",
        "class GCN(torch.nn.Module):\n",
        "    def __init__(self):\n",
        "        super(GCN, self).__init__()\n",
        "        torch.manual_seed(7531)\n",
        "        self.conv1 = GCNConv(dataset.num_features, 4)\n",
        "        self.conv2 = GCNConv(4, 4)\n",
        "        self.conv3 = GCNConv(4, 4)\n",
        "        self.conv4 = GCNConv(4, 4)\n",
        "        self.conv5 = GCNConv(4, 4)\n",
        "        self.conv6 = GCNConv(4, 4)\n",
        "        self.conv7 = GCNConv(4, 4)\n",
        "        self.conv8 = GCNConv(4, 4)\n",
        "        self.conv9 = GCNConv(4, 4)\n",
        "        self.conv10 = GCNConv(4, 4)\n",
        "        self.conv11 = GCNConv(4, 4)\n",
        "        self.conv12 = GCNConv(4, 4)\n",
        "        self.conv13 = GCNConv(4, 4)\n",
        "        self.conv14 = GCNConv(4, 4)\n",
        "        self.conv15 = GCNConv(4, 4)\n",
        "        self.conv16 = GCNConv(4, 4)\n",
        "        self.conv17 = GCNConv(4, 4)\n",
        "        self.conv18 = GCNConv(4, 4)\n",
        "        self.conv19 = GCNConv(4, 4)\n",
        "        self.conv20 = GCNConv(4, 4)\n",
        "        self.conv21 = GCNConv(4, 4)\n",
        "        self.conv22 = GCNConv(4, 4)\n",
        "        self.conv23 = GCNConv(4, 4)\n",
        "        self.conv24 = GCNConv(4, 2)\n",
        "        self.classifier = Linear(2, dataset.num_classes)\n",
        "\n",
        "    def forward(self, x, edge_index):\n",
        "        h = self.conv1(x, edge_index)\n",
        "        h = h.tanh()\n",
        "        h = self.conv2(h, edge_index)\n",
        "        h = h.tanh()\n",
        "        h = self.conv3(h, edge_index)\n",
        "        h = h.tanh()\n",
        "        h = self.conv4(h, edge_index)\n",
        "        h = h.tanh()\n",
        "        h = self.conv5(h, edge_index)\n",
        "        h = h.tanh()\n",
        "        h = self.conv6(h, edge_index)\n",
        "        h = h.tanh()\n",
        "        h = self.conv7(h, edge_index)\n",
        "        h = h.tanh()\n",
        "        h = self.conv8(h, edge_index)\n",
        "        h = h.tanh()\n",
        "        h = self.conv9(h, edge_index)\n",
        "        h = h.tanh()\n",
        "        h = self.conv10(h, edge_index)\n",
        "        h = h.tanh()\n",
        "        h = self.conv11(h, edge_index)\n",
        "        h = h.tanh()\n",
        "        h = self.conv12(h, edge_index)\n",
        "        h = h.tanh()\n",
        "        h = self.conv13(h, edge_index)\n",
        "        h = h.tanh()\n",
        "        h = self.conv14(h, edge_index)\n",
        "        h = h.tanh()\n",
        "        h = self.conv15(h, edge_index)\n",
        "        h = h.tanh()\n",
        "        h = self.conv16(h, edge_index)\n",
        "        h = h.tanh()\n",
        "        h = self.conv17(h, edge_index)\n",
        "        h = h.tanh()\n",
        "        h = self.conv18(h, edge_index)\n",
        "        h = h.tanh()\n",
        "        h = self.conv19(h, edge_index)\n",
        "        h = h.tanh()\n",
        "        h = self.conv20(h, edge_index)\n",
        "        h = h.tanh()\n",
        "        h = self.conv21(h, edge_index)\n",
        "        h = h.tanh()\n",
        "        h = self.conv22(h, edge_index)\n",
        "        h = h.tanh()\n",
        "        h = self.conv23(h, edge_index)\n",
        "        h = h.tanh()\n",
        "        h = self.conv24(h, edge_index)\n",
        "        h = h.tanh()  # Final GNN embedding space.\n",
        "        out = self.classifier(h)# Apply a final (linear) classifier.\n",
        "\n",
        "        return out, h\n",
        "\n",
        "model = GCN()\n",
        "print(model)"
      ]
    },
    {
      "cell_type": "markdown",
      "metadata": {
        "id": "-YBxJCgUqPHl"
      },
      "source": [
        "###Training the model"
      ]
    },
    {
      "cell_type": "code",
      "execution_count": null,
      "metadata": {
        "id": "RW_MH11YqNcq"
      },
      "outputs": [],
      "source": [
        "import time\n",
        "from IPython.display import Javascript  # Restrict height of output cell.\n",
        "display(Javascript('''google.colab.output.setIframeHeight(0, true, {maxHeight: 430})'''))\n",
        "\n",
        "def train(data):\n",
        "    optimizer.zero_grad()  # Clear gradients.\n",
        "    out, h = model(data.x, data.edge_index)  # Perform a single forward pass.\n",
        "    loss = criterion(out[data.train_mask], data.y[data.train_mask])  # Compute the loss solely based on the training nodes.\n",
        "    loss.backward()  # Derive gradients.\n",
        "    optimizer.step()  # Update parameters based on gradients.\n",
        "\n",
        "    accuracy = {}\n",
        "    # Calculate training accuracy on our four examples\n",
        "    predicted_classes = torch.argmax(out[data.train_mask], axis=1) # [0.6, 0.2, 0.7, 0.1] -> 2\n",
        "    target_classes = data.y[data.train_mask]\n",
        "    accuracy['train'] = torch.mean(\n",
        "        torch.where(predicted_classes == target_classes, 1, 0).float())\n",
        "\n",
        "    # Calculate validation accuracy on the whole graph\n",
        "    predicted_classes = torch.argmax(out, axis=1)\n",
        "    target_classes = data.y\n",
        "    accuracy['val'] = torch.mean(\n",
        "        torch.where(predicted_classes == target_classes, 1, 0).float())\n",
        "\n",
        "    return loss, h, accuracy"
      ]
    },
    {
      "cell_type": "code",
      "execution_count": null,
      "metadata": {
        "id": "yznT1Cg-qNJd"
      },
      "outputs": [],
      "source": [
        "# Lists to store loss and accuracy values\n",
        "losses = []\n",
        "accuracies = []\n",
        "epochs = 1500\n",
        "criterion = torch.nn.CrossEntropyLoss()  #Initialize the CrossEntropyLoss function (loss criterion).\n",
        "optimizer = torch.optim.Adam(model.parameters(), lr=0.01) # Define optimizer.\n",
        "# Training loop\n",
        "for epoch in range(epochs):\n",
        "    loss, h, accuracy = train(data)\n",
        "    losses.append(loss.item())"
      ]
    },
    {
      "cell_type": "code",
      "execution_count": null,
      "metadata": {
        "id": "iM3j17iQqNEj"
      },
      "outputs": [],
      "source": [
        "plt.plot(range(1, len(losses) + 1), losses, marker='o', color='c')\n",
        "\n",
        "plt.title('Training Loss Curve')\n",
        "plt.xlabel('Epoch')\n",
        "plt.ylabel('Loss')\n",
        "plt.grid(True)\n",
        "plt.show()"
      ]
    },
    {
      "cell_type": "markdown",
      "metadata": {
        "id": "rEH7RQ1tqmWV"
      },
      "source": [
        "###Visualizing node embeddings"
      ]
    },
    {
      "cell_type": "code",
      "execution_count": null,
      "metadata": {
        "id": "bXNZ70l7qNBO"
      },
      "outputs": [],
      "source": [
        "data = dataset[0]\n",
        "out, embeddings = model(data.x, data.edge_index)\n",
        "\n",
        "# Convert embeddings to a NumPy array\n",
        "embeddings = embeddings.detach().numpy()\n",
        "\n",
        "# Apply dimensionality reduction (e.g., t-SNE) for visualization\n",
        "reduced_embeddings = TSNE(n_components=2).fit_transform(embeddings)\n",
        "\n",
        "# Create a scatter plot to visualize the embeddings\n",
        "plt.figure(figsize=(10, 10))\n",
        "plt.scatter(reduced_embeddings[:, 0], reduced_embeddings[:, 1], c=data.y, cmap='Set3', s=50)\n",
        "plt.xlabel((f'Loss: {loss.item():.4f} \\n'\n",
        "                       f'Training Accuracy: {accuracy[\"train\"]*100:.2f}% \\n'\n",
        "                       f' Validation Accuracy: {accuracy[\"val\"]*100:.2f}%'),\n",
        "                       fontsize=12)\n",
        "plt.title(\"Node Embeddings Visualization\")\n",
        "\n",
        "plt.show()"
      ]
    },
    {
      "cell_type": "markdown",
      "metadata": {
        "id": "Rx4Jx6OehWIE"
      },
      "source": [
        "##E. In the general case of excessive increase in the number of graphic layers in the model, what effect can it have on the quality of the embedding?"
      ]
    },
    {
      "cell_type": "markdown",
      "source": [
        "Increasing the number of graph layers in a GNNs mode can allow it to capture more complex relationships within the graph. However, if the model becomes too deep, it might start memorizing the training graph instead of learning meaningful representations that generalize to new graphs leading to phenomena such as overfitting. This means that the model may learn specific features of the training graph that are  too specialized and fails to generalize well to new graphs. For example, the model may capture intricate patterns in graph structures, node relationships, features or noise in the training graph that do not necessarily apply to other graphs. This can result in a decrease in the model's performance on new graphs.\n",
        "\n",
        "In general, it's crucial to strike a balance between model complexity and generalization. Simply increasing the number of layers might not always improve performance, as a more complex model could become too tailored to the training data, hindering its ability to adapt to new data. Regularization techniques (e.g., dropout) and careful tuning of hyperparameters can help mitigate overfitting."
      ],
      "metadata": {
        "id": "uTxROjlluIE9"
      }
    },
    {
      "cell_type": "markdown",
      "metadata": {
        "id": "VKFubqbuiR7a"
      },
      "source": [
        "##F. Utilizing the Laplacian eigenmap method, compute alternative initial representation vectors for the graph nodes and then proceed to re-evaluate parts C and D with these vectors to verify the outcome."
      ]
    },
    {
      "cell_type": "markdown",
      "source": [],
      "metadata": {
        "id": "ahwPdKoBviSn"
      }
    },
    {
      "cell_type": "code",
      "execution_count": null,
      "metadata": {
        "id": "W_AbdhRciSsr"
      },
      "outputs": [],
      "source": [
        "import networkx as nx\n",
        "import numpy as np\n",
        "import scipy.sparse as sp\n",
        "import dgl\n",
        "def laplacian_positional_encoding(g, pos_enc_dim):\n",
        "    \"\"\"\n",
        "        Graph positional encoding v/ Laplacian eigenvectors\n",
        "    \"\"\"\n",
        "\n",
        "    # Laplacian\n",
        "    A = g.adjacency_matrix_scipy(return_edge_ids=False).astype(float)\n",
        "    N = sp.diags(dgl.backend.asnumpy(g.in_degrees()).clip(1) ** -0.5, dtype=float)\n",
        "    L = sp.eye(g.number_of_nodes()) - N * A * N\n",
        "\n",
        "    # Eigenvectors with scipy\n",
        "    #EigVal, EigVec = sp.linalg.eigs(L, k=pos_enc_dim+1, which='SR')\n",
        "    EigVal, EigVec = sp.linalg.eigs(L, k=pos_enc_dim+1, which='SR', tol=1e-2) # for 40 PEs\n",
        "    EigVec = EigVec[:, EigVal.argsort()] # increasing order\n",
        "    out = torch.from_numpy(EigVec[:,1:pos_enc_dim+1]).float()\n",
        "\n",
        "    return out"
      ]
    },
    {
      "cell_type": "code",
      "source": [
        "PE_dim = 128\n",
        "G = to_networkx(data)\n",
        "adj = nx.to_numpy_array(G)\n",
        "sp_adj = sp.coo_matrix(adj)\n",
        "g = dgl.from_scipy(sp_adj)\n",
        "embeddings = np.array(laplacian_positional_encoding(g, PE_dim))"
      ],
      "metadata": {
        "id": "P1HChG33usMZ"
      },
      "execution_count": null,
      "outputs": []
    },
    {
      "cell_type": "code",
      "source": [
        "from torch_geometric.utils import to_networkx\n",
        "from torch.nn import Linear\n",
        "from torch_geometric.nn import GCNConv\n",
        "from sklearn.manifold import TSNE\n",
        "\n",
        "class GCN(torch.nn.Module):\n",
        "    def __init__(self):\n",
        "        super(GCN, self).__init__()\n",
        "        torch.manual_seed(7531)\n",
        "        self.conv1 = GCNConv(dataset.num_features, 4)\n",
        "        self.conv2 = GCNConv(4, 2)\n",
        "        self.classifier = Linear(2, dataset.num_classes)\n",
        "\n",
        "    def forward(self, x, edge_index):\n",
        "        h = self.conv1(x, edge_index)\n",
        "        h = h.tanh()\n",
        "        h = self.conv2(h, edge_index)\n",
        "        h = h.tanh()  # Final GNN embedding space.\n",
        "        out = self.classifier(h)# Apply a final (linear) classifier.\n",
        "\n",
        "        return out, h\n",
        "\n",
        "model = GCN()\n",
        "print(model)"
      ],
      "metadata": {
        "id": "SdzcBbXjuxq_"
      },
      "execution_count": null,
      "outputs": []
    },
    {
      "cell_type": "code",
      "source": [
        "import time\n",
        "from IPython.display import Javascript  # Restrict height of output cell.\n",
        "display(Javascript('''google.colab.output.setIframeHeight(0, true, {maxHeight: 430})'''))\n",
        "\n",
        "def train(data):\n",
        "    optimizer.zero_grad()  # Clear gradients.\n",
        "    out, h = model(data.x, data.edge_index)  # Perform a single forward pass.\n",
        "    loss = criterion(out[data.train_mask], data.y[data.train_mask])  # Compute the loss solely based on the training nodes.\n",
        "    loss.backward()  # Derive gradients.\n",
        "    optimizer.step()  # Update parameters based on gradients.\n",
        "\n",
        "    accuracy = {}\n",
        "    # Calculate training accuracy on our four examples\n",
        "    predicted_classes = torch.argmax(out[data.train_mask], axis=1) # [0.6, 0.2, 0.7, 0.1] -> 2\n",
        "    target_classes = data.y[data.train_mask]\n",
        "    accuracy['train'] = torch.mean(\n",
        "        torch.where(predicted_classes == target_classes, 1, 0).float())\n",
        "\n",
        "    # Calculate validation accuracy on the whole graph\n",
        "    predicted_classes = torch.argmax(out, axis=1)\n",
        "    target_classes = data.y\n",
        "    accuracy['val'] = torch.mean(\n",
        "        torch.where(predicted_classes == target_classes, 1, 0).float())\n",
        "\n",
        "    return loss, h, accuracy"
      ],
      "metadata": {
        "id": "p8HY7q5Xu9PN"
      },
      "execution_count": null,
      "outputs": []
    },
    {
      "cell_type": "code",
      "source": [
        "# Lists to store loss and accuracy values\n",
        "losses = []\n",
        "accuracies = []\n",
        "epochs = 1500\n",
        "criterion = torch.nn.CrossEntropyLoss()  #Initialize the CrossEntropyLoss function (loss criterion).\n",
        "optimizer = torch.optim.Adam(model.parameters(), lr=0.01) # Define optimizer.\n",
        "# Training loop\n",
        "for epoch in range(epochs):\n",
        "    loss, h, accuracy = train(data)\n",
        "    losses.append(loss.item())"
      ],
      "metadata": {
        "id": "8CxgNlfavJxC"
      },
      "execution_count": null,
      "outputs": []
    },
    {
      "cell_type": "code",
      "source": [
        "plt.plot(range(1, len(losses) + 1), losses, marker='o', color='c')\n",
        "\n",
        "plt.title('Training Loss Curve')\n",
        "plt.xlabel('Epoch')\n",
        "plt.ylabel('Loss')\n",
        "plt.grid(True)\n",
        "plt.show()"
      ],
      "metadata": {
        "id": "TZXZmK89vKwn"
      },
      "execution_count": null,
      "outputs": []
    },
    {
      "cell_type": "code",
      "source": [
        "data = dataset[0]\n",
        "out, embeddings = model(data.x, data.edge_index)\n",
        "\n",
        "# Convert embeddings to a NumPy array\n",
        "embeddings = embeddings.detach().numpy()\n",
        "\n",
        "# Apply dimensionality reduction (e.g., t-SNE) for visualization\n",
        "reduced_embeddings = TSNE(n_components=2).fit_transform(embeddings)\n",
        "\n",
        "# Create a scatter plot to visualize the embeddings\n",
        "plt.figure(figsize=(10, 10))\n",
        "plt.scatter(reduced_embeddings[:, 0], reduced_embeddings[:, 1], c=data.y, cmap='Set3', s=50)\n",
        "plt.xlabel((f'Loss: {loss.item():.4f} \\n'\n",
        "                       f'Training Accuracy: {accuracy[\"train\"]*100:.2f}% \\n'\n",
        "                       f' Validation Accuracy: {accuracy[\"val\"]*100:.2f}%'),\n",
        "                       fontsize=12)\n",
        "plt.title(\"Node Embeddings Visualization\")\n",
        "\n",
        "plt.show()"
      ],
      "metadata": {
        "id": "LyVNfNqMvQDA"
      },
      "execution_count": null,
      "outputs": []
    },
    {
      "cell_type": "markdown",
      "source": [],
      "metadata": {
        "id": "S6FLXoB2vdtc"
      }
    },
    {
      "cell_type": "code",
      "source": [
        "import networkx as nx\n",
        "import numpy as np\n",
        "import scipy.sparse as sp\n",
        "import dgl\n",
        "def laplacian_positional_encoding(g, pos_enc_dim):\n",
        "    \"\"\"\n",
        "        Graph positional encoding v/ Laplacian eigenvectors\n",
        "    \"\"\"\n",
        "\n",
        "    # Laplacian\n",
        "    A = g.adjacency_matrix_scipy(return_edge_ids=False).astype(float)\n",
        "    N = sp.diags(dgl.backend.asnumpy(g.in_degrees()).clip(1) ** -0.5, dtype=float)\n",
        "    L = sp.eye(g.number_of_nodes()) - N * A * N\n",
        "\n",
        "    # Eigenvectors with scipy\n",
        "    #EigVal, EigVec = sp.linalg.eigs(L, k=pos_enc_dim+1, which='SR')\n",
        "    EigVal, EigVec = sp.linalg.eigs(L, k=pos_enc_dim+1, which='SR', tol=1e-2) # for 40 PEs\n",
        "    EigVec = EigVec[:, EigVal.argsort()] # increasing order\n",
        "    out = torch.from_numpy(EigVec[:,1:pos_enc_dim+1]).float()\n",
        "\n",
        "    return out"
      ],
      "metadata": {
        "id": "rgSpXU4uvdET"
      },
      "execution_count": null,
      "outputs": []
    },
    {
      "cell_type": "code",
      "source": [
        "PE_dim = 128\n",
        "G = to_networkx(data)\n",
        "adj = nx.to_numpy_array(G)\n",
        "sp_adj = sp.coo_matrix(adj)\n",
        "g = dgl.from_scipy(sp_adj)\n",
        "embeddings = np.array(laplacian_positional_encoding(g, PE_dim))"
      ],
      "metadata": {
        "id": "hFoV23REvnvM"
      },
      "execution_count": null,
      "outputs": []
    },
    {
      "cell_type": "code",
      "source": [
        "from torch_geometric.utils import to_networkx\n",
        "from torch.nn import Linear\n",
        "from torch_geometric.nn import GCNConv\n",
        "from sklearn.manifold import TSNE\n",
        "\n",
        "class GCN(torch.nn.Module):\n",
        "    def __init__(self):\n",
        "        super(GCN, self).__init__()\n",
        "        torch.manual_seed(7531)\n",
        "        self.conv1 = GCNConv(dataset.num_features, 4)\n",
        "        self.conv2 = GCNConv(4, 4)\n",
        "        self.conv3 = GCNConv(4, 4)\n",
        "        self.conv4 = GCNConv(4, 4)\n",
        "        self.conv5 = GCNConv(4, 4)\n",
        "        self.conv6 = GCNConv(4, 4)\n",
        "        self.conv7 = GCNConv(4, 4)\n",
        "        self.conv8 = GCNConv(4, 4)\n",
        "        self.conv9 = GCNConv(4, 4)\n",
        "        self.conv10 = GCNConv(4, 4)\n",
        "        self.conv11 = GCNConv(4, 4)\n",
        "        self.conv12 = GCNConv(4, 4)\n",
        "        self.conv13 = GCNConv(4, 4)\n",
        "        self.conv14 = GCNConv(4, 4)\n",
        "        self.conv15 = GCNConv(4, 4)\n",
        "        self.conv16 = GCNConv(4, 4)\n",
        "        self.conv17 = GCNConv(4, 4)\n",
        "        self.conv18 = GCNConv(4, 4)\n",
        "        self.conv19 = GCNConv(4, 4)\n",
        "        self.conv20 = GCNConv(4, 4)\n",
        "        self.conv21 = GCNConv(4, 4)\n",
        "        self.conv22 = GCNConv(4, 4)\n",
        "        self.conv23 = GCNConv(4, 4)\n",
        "        self.conv24 = GCNConv(4, 2)\n",
        "        self.classifier = Linear(2, dataset.num_classes)\n",
        "\n",
        "    def forward(self, x, edge_index):\n",
        "        h = self.conv1(x, edge_index)\n",
        "        h = h.tanh()\n",
        "        h = self.conv2(h, edge_index)\n",
        "        h = h.tanh()\n",
        "        h = self.conv3(h, edge_index)\n",
        "        h = h.tanh()\n",
        "        h = self.conv4(h, edge_index)\n",
        "        h = h.tanh()\n",
        "        h = self.conv5(h, edge_index)\n",
        "        h = h.tanh()\n",
        "        h = self.conv6(h, edge_index)\n",
        "        h = h.tanh()\n",
        "        h = self.conv7(h, edge_index)\n",
        "        h = h.tanh()\n",
        "        h = self.conv8(h, edge_index)\n",
        "        h = h.tanh()\n",
        "        h = self.conv9(h, edge_index)\n",
        "        h = h.tanh()\n",
        "        h = self.conv10(h, edge_index)\n",
        "        h = h.tanh()\n",
        "        h = self.conv11(h, edge_index)\n",
        "        h = h.tanh()\n",
        "        h = self.conv12(h, edge_index)\n",
        "        h = h.tanh()\n",
        "        h = self.conv13(h, edge_index)\n",
        "        h = h.tanh()\n",
        "        h = self.conv14(h, edge_index)\n",
        "        h = h.tanh()\n",
        "        h = self.conv15(h, edge_index)\n",
        "        h = h.tanh()\n",
        "        h = self.conv16(h, edge_index)\n",
        "        h = h.tanh()\n",
        "        h = self.conv17(h, edge_index)\n",
        "        h = h.tanh()\n",
        "        h = self.conv18(h, edge_index)\n",
        "        h = h.tanh()\n",
        "        h = self.conv19(h, edge_index)\n",
        "        h = h.tanh()\n",
        "        h = self.conv20(h, edge_index)\n",
        "        h = h.tanh()\n",
        "        h = self.conv21(h, edge_index)\n",
        "        h = h.tanh()\n",
        "        h = self.conv22(h, edge_index)\n",
        "        h = h.tanh()\n",
        "        h = self.conv23(h, edge_index)\n",
        "        h = h.tanh()\n",
        "        h = self.conv24(h, edge_index)\n",
        "        h = h.tanh()  # Final GNN embedding space.\n",
        "        out = self.classifier(h)# Apply a final (linear) classifier.\n",
        "\n",
        "        return out, h\n",
        "\n",
        "model = GCN()\n",
        "print(model)"
      ],
      "metadata": {
        "id": "SxE4y27qvnrT"
      },
      "execution_count": null,
      "outputs": []
    },
    {
      "cell_type": "code",
      "source": [
        "import time\n",
        "from IPython.display import Javascript  # Restrict height of output cell.\n",
        "display(Javascript('''google.colab.output.setIframeHeight(0, true, {maxHeight: 430})'''))\n",
        "\n",
        "def train(data):\n",
        "    optimizer.zero_grad()  # Clear gradients.\n",
        "    out, h = model(data.x, data.edge_index)  # Perform a single forward pass.\n",
        "    loss = criterion(out[data.train_mask], data.y[data.train_mask])  # Compute the loss solely based on the training nodes.\n",
        "    loss.backward()  # Derive gradients.\n",
        "    optimizer.step()  # Update parameters based on gradients.\n",
        "\n",
        "    accuracy = {}\n",
        "    # Calculate training accuracy on our four examples\n",
        "    predicted_classes = torch.argmax(out[data.train_mask], axis=1) # [0.6, 0.2, 0.7, 0.1] -> 2\n",
        "    target_classes = data.y[data.train_mask]\n",
        "    accuracy['train'] = torch.mean(\n",
        "        torch.where(predicted_classes == target_classes, 1, 0).float())\n",
        "\n",
        "    # Calculate validation accuracy on the whole graph\n",
        "    predicted_classes = torch.argmax(out, axis=1)\n",
        "    target_classes = data.y\n",
        "    accuracy['val'] = torch.mean(\n",
        "        torch.where(predicted_classes == target_classes, 1, 0).float())\n",
        "\n",
        "    return loss, h, accuracy"
      ],
      "metadata": {
        "id": "mAVRqB7dvnnR"
      },
      "execution_count": null,
      "outputs": []
    },
    {
      "cell_type": "code",
      "source": [
        "# Lists to store loss and accuracy values\n",
        "losses = []\n",
        "accuracies = []\n",
        "epochs = 1500\n",
        "criterion = torch.nn.CrossEntropyLoss()  #Initialize the CrossEntropyLoss function (loss criterion).\n",
        "optimizer = torch.optim.Adam(model.parameters(), lr=0.01) # Define optimizer.\n",
        "# Training loop\n",
        "for epoch in range(epochs):\n",
        "    loss, h, accuracy = train(data)\n",
        "    losses.append(loss.item())"
      ],
      "metadata": {
        "id": "DODDAViavncC"
      },
      "execution_count": null,
      "outputs": []
    },
    {
      "cell_type": "code",
      "source": [
        "plt.plot(range(1, len(losses) + 1), losses, marker='o', color='c')\n",
        "\n",
        "plt.title('Training Loss Curve')\n",
        "plt.xlabel('Epoch')\n",
        "plt.ylabel('Loss')\n",
        "plt.grid(True)\n",
        "plt.show()"
      ],
      "metadata": {
        "id": "rSdQmL1EvnXd"
      },
      "execution_count": null,
      "outputs": []
    },
    {
      "cell_type": "code",
      "source": [
        "data = dataset[0]\n",
        "out, embeddings = model(data.x, data.edge_index)\n",
        "\n",
        "# Convert embeddings to a NumPy array\n",
        "embeddings = embeddings.detach().numpy()\n",
        "\n",
        "# Apply dimensionality reduction (e.g., t-SNE) for visualization\n",
        "reduced_embeddings = TSNE(n_components=2).fit_transform(embeddings)\n",
        "\n",
        "# Create a scatter plot to visualize the embeddings\n",
        "plt.figure(figsize=(10, 10))\n",
        "plt.scatter(reduced_embeddings[:, 0], reduced_embeddings[:, 1], c=data.y, cmap='Set3', s=50)\n",
        "plt.xlabel((f'Loss: {loss.item():.4f} \\n'\n",
        "                       f'Training Accuracy: {accuracy[\"train\"]*100:.2f}% \\n'\n",
        "                       f' Validation Accuracy: {accuracy[\"val\"]*100:.2f}%'),\n",
        "                       fontsize=12)\n",
        "plt.title(\"Node Embeddings Visualization\")\n",
        "\n",
        "plt.show()"
      ],
      "metadata": {
        "id": "namxKncavnSG"
      },
      "execution_count": null,
      "outputs": []
    }
  ],
  "metadata": {
    "colab": {
      "provenance": []
    },
    "kernelspec": {
      "display_name": "Python 3",
      "name": "python3"
    },
    "language_info": {
      "name": "python"
    }
  },
  "nbformat": 4,
  "nbformat_minor": 0
}